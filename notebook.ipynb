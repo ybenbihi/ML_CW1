{
 "cells": [
  {
   "cell_type": "markdown",
   "metadata": {},
   "source": [
    "# <center>Introduction to ML - Decision Tree Coursework</center>\n",
    "### <center>COMP70050</center>"
   ]
  },
  {
   "cell_type": "markdown",
   "metadata": {},
   "source": [
    "### Installing dependencies"
   ]
  },
  {
   "cell_type": "markdown",
   "metadata": {},
   "source": [
    "Step 1 "
   ]
  },
  {
   "cell_type": "code",
   "execution_count": 188,
   "metadata": {},
   "outputs": [],
   "source": [
    "import numpy as np\n",
    "\n",
    "# Making our results reproducible\n",
    "np.random.seed(1337)\n",
    "\n",
    "clean_data = np.loadtxt(\"wifi_db/clean_dataset.txt\", delimiter='\\t')\n",
    "noisy_data = np.loadtxt(\"wifi_db/noisy_dataset.txt\")"
   ]
  },
  {
   "cell_type": "code",
   "execution_count": 136,
   "metadata": {},
   "outputs": [],
   "source": [
    "def entropy(labels):\n",
    "    _, counts = np.unique(labels, return_counts=True)\n",
    "    prob = counts / np.sum(counts)\n",
    "    return -np.sum(prob * np.log2(prob))"
   ]
  },
  {
   "cell_type": "code",
   "execution_count": 137,
   "metadata": {},
   "outputs": [],
   "source": [
    "def find_split(dataset):\n",
    "    # We split out dataset, x is the array of features and y is the labels\n",
    "    x = dataset[:, :-1]\n",
    "    y = dataset[:, -1]\n",
    "\n",
    "    # n is the number of samples and k is the number of features\n",
    "    n, k = x.shape\n",
    "\n",
    "    H_total = entropy(y)\n",
    "\n",
    "    max_gain = 0\n",
    "    best_attribute = -1\n",
    "    best_split = None\n",
    "\n",
    "    for attribute in range(k):\n",
    "        arr = x[:, attribute]\n",
    "        uniques = np.unique(arr)\n",
    "\n",
    "        for split in uniques:\n",
    "            left_ds = y[arr <= split]\n",
    "            right_ds = y[arr > split]\n",
    "\n",
    "            remainder = ((len(left_ds)/len(arr)) * entropy(left_ds)) + ((len(right_ds)/len(arr)) * entropy(right_ds))\n",
    "            \n",
    "            if max_gain < H_total - remainder:\n",
    "\n",
    "                max_gain = H_total - remainder\n",
    "                best_attribute = attribute\n",
    "                best_split = split\n",
    "    \n",
    "    return best_attribute, best_split"
   ]
  },
  {
   "cell_type": "code",
   "execution_count": 138,
   "metadata": {},
   "outputs": [],
   "source": [
    "def decision_tree_learning(dataset, depth=0):\n",
    "    total_instances = len(dataset)\n",
    "    x = dataset[:, :-1]\n",
    "    y = dataset[:, -1]\n",
    "    \n",
    "    if len(np.unique(y)) == 1:\n",
    "        return (Node(None, y[0], None, None, total_instances, True), depth)\n",
    "    else:\n",
    "        attribute, value = find_split(dataset)\n",
    "        l_dataset = dataset[dataset[:, attribute] <= value]\n",
    "        r_dataset = dataset[dataset[:, attribute]  > value]\n",
    "        l_node, l_depth = decision_tree_learning(l_dataset, depth + 1)\n",
    "        r_node, r_depth = decision_tree_learning(r_dataset, depth + 1)\n",
    "        node = Node(attribute, value, l_node, r_node, total_instances, False)\n",
    "        return (node, max(l_depth, r_depth))"
   ]
  },
  {
   "cell_type": "code",
   "execution_count": 139,
   "metadata": {},
   "outputs": [],
   "source": [
    "class Node:\n",
    "    def __init__(self, attribute, value, left, right, n_instances: int, is_leaf: bool):\n",
    "        self.attribute = attribute\n",
    "        self.value = value\n",
    "        self.left = left\n",
    "        self.right = right\n",
    "        self.n_instances = n_instances\n",
    "        self.is_leaf = is_leaf\n"
   ]
  },
  {
   "cell_type": "code",
   "execution_count": 140,
   "metadata": {},
   "outputs": [],
   "source": [
    "def predict(node, X):\n",
    "    if node.is_leaf:\n",
    "        return np.full(len(X), node.value)\n",
    "    \n",
    "    left_indices = X[:, node.attribute] <= node.value\n",
    "    right_indices = X[:, node.attribute] > node.value\n",
    "    \n",
    "    predictions  = np.zeros(len(X))\n",
    "    predictions[left_indices] = predict(node.left, X[left_indices])\n",
    "    predictions[right_indices] = predict(node.right, X[right_indices])\n",
    "\n",
    "    return predictions  "
   ]
  },
  {
   "cell_type": "markdown",
   "metadata": {},
   "source": [
    "### Step 3 : Evaluation"
   ]
  },
  {
   "cell_type": "code",
   "execution_count": 141,
   "metadata": {},
   "outputs": [],
   "source": [
    "# Function taken from Lab 3\n",
    "def confusion_matrix(y_gold, y_prediction, class_labels=None):\n",
    "    \n",
    "    # if no class_labels are given, we obtain the set of unique class labels from\n",
    "    # the union of the ground truth annotation and the prediction\n",
    "    if not class_labels:\n",
    "        class_labels = np.unique(np.concatenate((y_gold, y_prediction)))\n",
    "\n",
    "    confusion = np.zeros((len(class_labels), len(class_labels)))\n",
    "\n",
    "    # for each correct class (row),\n",
    "    # compute how many instances are predicted for each class (columns)\n",
    "    for i, correct_class in enumerate(class_labels):\n",
    "        for j, predicted_class in enumerate(class_labels):\n",
    "            count = np.count_nonzero(np.logical_and(y_gold == correct_class, y_prediction == predicted_class))\n",
    "            confusion[i][j] = count\n",
    "\n",
    "    return confusion\n",
    "\n",
    "def accuracy(confusion):\n",
    "    return np.trace(confusion) / np.sum(confusion) if np.sum(confusion) > 0 else 0\n",
    "\n",
    "\n",
    "def precision(confusion):\n",
    "\n",
    "    # Compute the precision per class\n",
    "    p = np.diag(confusion) / np.sum(confusion, axis=1)\n",
    "\n",
    "    # Compute the macro-averaged precision\n",
    "    macro_p = np.mean(p)\n",
    "\n",
    "    return (p, macro_p)\n",
    "\n",
    "def recall(confusion):\n",
    "\n",
    "    # Compute the recall per class\n",
    "    r = np.diag(confusion) / np.sum(confusion, axis=0)\n",
    "    # Compute the macro-averaged recall\n",
    "    macro_r = np.mean(r)\n",
    "    return (r, macro_r)\n",
    "\n",
    "def f1_score(confusion):\n",
    "\n",
    "\n",
    "    (precisions, macro_p) = precision(confusion)\n",
    "    (recalls, macro_r) = recall(confusion)\n",
    "\n",
    "    # just to make sure they are of the same length\n",
    "    assert len(precisions) == len(recalls)\n",
    "\n",
    "    f = (2*precisions*recalls) / (precisions + recalls)\n",
    "\n",
    "    macro_f = np.mean(f)\n",
    "\n",
    "    return (f, macro_f)"
   ]
  },
  {
   "cell_type": "code",
   "execution_count": 184,
   "metadata": {},
   "outputs": [],
   "source": [
    "def train_test_k_fold(n_folds, n_instances, random_generator=np.random.default_rng()):\n",
    "\n",
    "    shuffled_indices = random_generator.permutation(n_instances)\n",
    "    split_indices = np.array_split(shuffled_indices, n_folds)\n",
    "\n",
    "    folds = []\n",
    "    for k in range(n_folds):\n",
    "        test_indices = split_indices[k]\n",
    "        train_indices = np.concatenate(split_indices[:k] + split_indices[k+1:])\n",
    "\n",
    "        folds.append([train_indices, test_indices])\n",
    "\n",
    "    return folds"
   ]
  },
  {
   "cell_type": "code",
   "execution_count": 189,
   "metadata": {},
   "outputs": [],
   "source": [
    "import matplotlib.pyplot as plt\n",
    "\n",
    "n_folds = 10\n",
    "dataset = noisy_data\n",
    "\n",
    "confusion_matrices = np.zeros((n_folds, 4, 4))\n",
    "accuracies = np.zeros(n_folds)\n",
    "macro_precisions = np.zeros((n_folds))\n",
    "per_class_precisions = np.zeros((n_folds, 4))\n",
    "macro_recalls = np.zeros((n_folds))\n",
    "per_class_recalls = np.zeros((n_folds, 4))\n",
    "macro_f1_scores = np.zeros((n_folds))\n",
    "per_class_f1_scores = np.zeros((n_folds, 4))\n",
    "\n",
    "for i, (train_indices, test_indices) in enumerate(train_test_k_fold(n_folds, len(dataset))):\n",
    "    x_test = dataset[test_indices, :-1]\n",
    "    y_test = dataset[test_indices, -1]\n",
    "    \n",
    "    tree, depth = decision_tree_learning(dataset[train_indices, :])\n",
    "    y_pred = predict(tree, x_test)\n",
    "    \n",
    "    confusion_matrices[i] = confusion_matrix(y_test, y_pred)\n",
    "    accuracies[i] = accuracy(confusion_matrices[i])\n",
    "    per_class_precisions[i] = precision(confusion_matrices[i])[0]\n",
    "    macro_precisions[i] = precision(confusion_matrices[i])[1]\n",
    "    per_class_recalls[i] = recall(confusion_matrices[i])[0]\n",
    "    macro_recalls[i] = recall(confusion_matrices[i])[1]\n",
    "    per_class_f1_scores[i] = f1_score(confusion_matrices[i])[0]\n",
    "    macro_f1_scores[i] = f1_score(confusion_matrices[i])[1]"
   ]
  },
  {
   "cell_type": "code",
   "execution_count": 190,
   "metadata": {},
   "outputs": [
    {
     "data": {
      "text/plain": [
       "array([0.795, 0.775, 0.74 , 0.82 , 0.83 , 0.775, 0.795, 0.755, 0.805,\n",
       "       0.82 ])"
      ]
     },
     "execution_count": 190,
     "metadata": {},
     "output_type": "execute_result"
    }
   ],
   "source": [
    "accuracies"
   ]
  },
  {
   "cell_type": "code",
   "execution_count": 191,
   "metadata": {},
   "outputs": [
    {
     "name": "stdout",
     "output_type": "stream",
     "text": [
      "--- Accuracies ---\n",
      "- Mean accuracy :  0.791\n",
      "- Accuracy Amplitude :  0.08999999999999997\n",
      "--- Precisions ---\n",
      "- Mean precision :  0.7900131520322213\n",
      "- Precision Amplitude :  0.09134022118650464\n",
      "- Room 1 mean precision :  0.7911067193675889\n",
      "- Room 2 mean precision :  0.7698101517975312\n",
      "- Room 3 mean precision :  0.7380157636316651\n",
      "- Room 4 mean precision :  0.8202564102564103\n",
      "--- Recalls ---\n",
      "- Mean recalls :  0.7891432838016337\n",
      "- Recall Amplitude :  0.09411981923175816\n",
      "- Room 1 mean recall :  0.7907700190308886\n",
      "- Room 2 mean recall :  0.7669047619047619\n",
      "- Room 3 mean recall :  0.7361925945501526\n",
      "- Room 4 mean recall :  0.8212374581939799\n",
      "--- F1-Scores ---\n",
      "- Mean F1-Score :  0.7889345833063494\n",
      "- F1-Score Amplitude :  0.0934918341824369\n",
      "- Room 1 mean F1-Score :  0.7908986808336046\n",
      "- Room 2 mean F1-Score :  0.7671586411938248\n",
      "- Room 3 mean F1-Score :  0.7361382613820646\n",
      "- Room 4 mean F1-Score :  0.820571387311062\n"
     ]
    }
   ],
   "source": [
    "print(\"--- Accuracies ---\")\n",
    "print(\"- Mean accuracy : \", np.mean(accuracies))\n",
    "print(\"- Accuracy Amplitude : \", np.max(accuracies) - np.min(accuracies))\n",
    "\n",
    "print(\"--- Precisions ---\")\n",
    "print(\"- Mean precision : \", np.mean(macro_precisions))\n",
    "print(\"- Precision Amplitude : \", np.max(macro_precisions) - np.min(macro_precisions))\n",
    "print(\"- Room 1 mean precision : \", np.mean(per_class_precisions[0]))\n",
    "print(\"- Room 2 mean precision : \", np.mean(per_class_precisions[1]))\n",
    "print(\"- Room 3 mean precision : \", np.mean(per_class_precisions[2]))\n",
    "print(\"- Room 4 mean precision : \", np.mean(per_class_precisions[3]))\n",
    "\n",
    "print(\"--- Recalls ---\")\n",
    "print(\"- Mean recalls : \", np.mean(macro_recalls))\n",
    "print(\"- Recall Amplitude : \", np.max(macro_recalls) - np.min(macro_recalls))\n",
    "print(\"- Room 1 mean recall : \", np.mean(per_class_recalls[0]))\n",
    "print(\"- Room 2 mean recall : \", np.mean(per_class_recalls[1]))\n",
    "print(\"- Room 3 mean recall : \", np.mean(per_class_recalls[2]))\n",
    "print(\"- Room 4 mean recall : \", np.mean(per_class_recalls[3]))\n",
    "\n",
    "print(\"--- F1-Scores ---\")\n",
    "print(\"- Mean F1-Score : \", np.mean(macro_f1_scores))\n",
    "print(\"- F1-Score Amplitude : \", np.max(macro_f1_scores) - np.min(macro_f1_scores))\n",
    "print(\"- Room 1 mean F1-Score : \", np.mean(per_class_f1_scores[0]))\n",
    "print(\"- Room 2 mean F1-Score : \", np.mean(per_class_f1_scores[1]))\n",
    "print(\"- Room 3 mean F1-Score : \", np.mean(per_class_f1_scores[2]))\n",
    "print(\"- Room 4 mean F1-Score : \", np.mean(per_class_f1_scores[3]))"
   ]
  },
  {
   "cell_type": "code",
   "execution_count": 166,
   "metadata": {},
   "outputs": [
    {
     "name": "stderr",
     "output_type": "stream",
     "text": [
      "/var/folders/45/d9xkv7rx7q9dpsbzfljnv0n80000gn/T/ipykernel_28185/3275756794.py:9: MatplotlibDeprecationWarning: The get_cmap function was deprecated in Matplotlib 3.7 and will be removed in 3.11. Use ``matplotlib.colormaps[name]`` or ``matplotlib.colormaps.get_cmap()`` or ``pyplot.get_cmap()`` instead.\n",
      "  cmap = plt.cm.get_cmap(cmap_name)\n"
     ]
    },
    {
     "data": {
      "image/png": "[encoded data removed]",
      "text/plain": [
       "<Figure size 640x480 with 1 Axes>"
      ]
     },
     "metadata": {},
     "output_type": "display_data"
    }
   ],
   "source": [
    "from matplotlib.colors import LinearSegmentedColormap, LogNorm\n",
    "\n",
    "def get_text_color(val, cmap_name, conf):\n",
    "    # Normalisation de la valeur\n",
    "    v_min, v_max = np.min(conf), np.max(conf)\n",
    "    normalized_val = (val - v_min) / (v_max - v_min)\n",
    "    \n",
    "    # Obtention de la couleur RGB pour cette valeur\n",
    "    cmap = plt.cm.get_cmap(cmap_name)\n",
    "    rgb = cmap(normalized_val)[:3]  # On ignore l'alpha\n",
    "    \n",
    "    # Calcul de la luminance\n",
    "    # Formule standard pour la luminance perçue\n",
    "    luminance = 0.299 * rgb[0] + 0.587 * rgb[1] + 0.114 * rgb[2]\n",
    "    \n",
    "    # Retourne blanc si la cellule est sombre, noir si elle est claire\n",
    "    return \"white\" if luminance < 0.5 else \"black\"\n",
    "\n",
    "def custom_colormap():\n",
    "    # Définition des couleurs RGB (normalisées entre 0 et 1)\n",
    "    color_1 = np.array([1, 1, 1])\n",
    "    # color_1 = np.array([217/255, 226/255, 255/255])\n",
    "    color_2 = np.array([0/255, 0/255, 205/255])\n",
    "    \n",
    "    # Création des points de contrôle\n",
    "    colors = [color_1, color_2]\n",
    "    \n",
    "    # Création de la colormap\n",
    "    n_bins = 256  # Nombre de niveaux de couleur\n",
    "    cm = LinearSegmentedColormap.from_list('custom_blue', colors, N=n_bins)\n",
    "    \n",
    "    return cm\n",
    "\n",
    "cmap = \"Blues\"\n",
    "\n",
    "\n",
    "heatmap = np.mean(confusion_matrices, axis=0)\n",
    "fig, ax = plt.subplots()\n",
    "im = ax.imshow(heatmap, cmap=cmap)\n",
    "ax.set_xticks(np.arange(4), labels=np.arange(4))\n",
    "ax.set_yticks(np.arange(4), labels=np.arange(4))\n",
    "ax.set_xlabel(\"Predicted class\")\n",
    "ax.set_ylabel(\"True class\")\n",
    "\n",
    "for i in range(4):\n",
    "    for j in range(4):\n",
    "        text = ax.text(j, i, heatmap[i, j],\n",
    "                       ha=\"center\", va=\"center\", color=get_text_color(heatmap[i, j], cmap, heatmap))\n",
    "\n",
    "ax.set_title(\"Confusion matrix (noisy)\")\n",
    "plt.savefig(\"confusion-matrix-noisy.png\")\n",
    "plt.show()"
   ]
  },
  {
   "cell_type": "markdown",
   "metadata": {},
   "source": [
    "### Step 4 : Pruning"
   ]
  },
  {
   "cell_type": "code",
   "execution_count": 9,
   "metadata": {},
   "outputs": [],
   "source": [
    "def evaluate(test_dataset, trained_tree):\n",
    "    y_pred = predict(trained_tree, test_dataset[:, :-1])\n",
    "    \n",
    "    accuracy = np.mean(y_pred == test_dataset[:, -1])\n",
    "    return accuracy"
   ]
  },
  {
   "cell_type": "code",
   "execution_count": 10,
   "metadata": {},
   "outputs": [],
   "source": [
    "def prune_tree(node: Node, train_dataset, val_dataset):\n",
    "    \n",
    "    if node.is_leaf:\n",
    "        return node\n",
    "\n",
    "    left_train_dataset = train_dataset[train_dataset[:, node.attribute] <= node.value]\n",
    "    right_train_dataset = train_dataset[train_dataset[:, node.attribute] > node.value]\n",
    "    \n",
    "    node.left = prune_tree(node.left, left_train_dataset, val_dataset)\n",
    "    node.right = prune_tree(node.right, right_train_dataset, val_dataset)\n",
    "    \n",
    "    if node.left.is_leaf and node.right.is_leaf:\n",
    "\n",
    "        new_value = node.left.value if node.left.n_instances > node.right.n_instances else node.right.value\n",
    "        potential_leaf = Node(None, new_value, None, None, len(train_dataset), True)\n",
    "\n",
    "        if evaluate(val_dataset, node) <= evaluate(val_dataset, potential_leaf):\n",
    "            return potential_leaf\n",
    "\n",
    "    return node\n"
   ]
  },
  {
   "cell_type": "code",
   "execution_count": 12,
   "metadata": {},
   "outputs": [
    {
     "name": "stdout",
     "output_type": "stream",
     "text": [
      "Before pruning:\n",
      "Accuracy: 0.80\n",
      "Precision: 0.80\n",
      "Recall: 0.81\n",
      "F1 Score: 0.80\n",
      "\n",
      "After pruning:\n",
      "Accuracy: 0.82\n",
      "Precision: 0.82\n",
      "Recall: 0.82\n",
      "F1 Score: 0.82\n"
     ]
    }
   ],
   "source": [
    "dataset = noisy_data\n",
    "n_folds = 10\n",
    "n_instances = len(dataset)\n",
    "\n",
    "confusion_matrices = np.zeros((n_folds, 4, 4))\n",
    "accuracies = np.zeros(n_folds)\n",
    "precisions = np.zeros(n_folds)\n",
    "recalls = np.zeros(n_folds)\n",
    "f1_scores = np.zeros(n_folds)\n",
    "\n",
    "confusion_matrices_after = np.zeros((n_folds, 4, 4))\n",
    "accuracies_after = np.zeros(n_folds)\n",
    "precisions_after = np.zeros(n_folds)\n",
    "recalls_after = np.zeros(n_folds)\n",
    "f1_scores_after = np.zeros(n_folds)\n",
    "\n",
    "for i, (train_indices, test_indices) in enumerate(train_test_k_fold(n_folds, len(x))):\n",
    "    # Splitting the train and test\n",
    "    x_train = dataset[train_indices, :-1] # pas utile ici\n",
    "    y_train = dataset[train_indices, -1] # pas utile ici\n",
    "    x_test = dataset[test_indices, :-1]\n",
    "    y_test = dataset[test_indices, -1]\n",
    "\n",
    "    root, depth = decision_tree_learning(dataset[train_indices])\n",
    "    y_pred = predict(root, x_test)\n",
    "\n",
    "    root = prune_tree(root, dataset[train_indices], dataset[test_indices])\n",
    "    y_pred_after = predict(root, x_test)\n",
    "\n",
    "    confusion_matrices[i] = confusion_matrix(np.int8(y_test), np.int8(y_pred))\n",
    "    accuracies[i] = accuracy(confusion_matrices[i])\n",
    "    precisions[i] = precision(confusion_matrices[i])[1]\n",
    "    recalls[i] = recall(confusion_matrices[i])[1]\n",
    "    f1_scores[i] = f1_score(confusion_matrices[i])[1]\n",
    "    train_dataset = np.column_stack((x_test, y_test))    \n",
    "\n",
    "    confusion_matrices_after[i] = confusion_matrix(np.int8(y_test), np.int8(y_pred_after))\n",
    "    accuracies_after[i] = accuracy(confusion_matrices_after[i])\n",
    "    precisions_after[i] = precision(confusion_matrices_after[i])[1]\n",
    "    recalls_after[i] = recall(confusion_matrices_after[i])[1]\n",
    "    f1_scores_after[i] = f1_score(confusion_matrices_after[i])[1]\n",
    "    train_dataset_after = np.column_stack((x_test, y_test))  \n",
    "    \n",
    "print(\"Before pruning:\")\n",
    "print(f\"Accuracy: {accuracies.mean():.2f}\")\n",
    "print(f\"Precision: {precisions.mean():.2f}\")\n",
    "print(f\"Recall: {recalls.mean():.2f}\")\n",
    "print(f\"F1 Score: {f1_scores.mean():.2f}\")\n",
    "\n",
    "print(\"\\nAfter pruning:\")\n",
    "print(f\"Accuracy: {accuracies_after.mean():.2f}\")\n",
    "print(f\"Precision: {precisions_after.mean():.2f}\")\n",
    "print(f\"Recall: {recalls_after.mean():.2f}\")\n",
    "print(f\"F1 Score: {f1_scores_after.mean():.2f}\")\n"
   ]
  },
  {
   "cell_type": "code",
   "execution_count": null,
   "metadata": {},
   "outputs": [],
   "source": []
  }
 ],
 "metadata": {
  "kernelspec": {
   "display_name": "Python 3 (ipykernel)",
   "language": "python",
   "name": "python3"
  },
  "language_info": {
   "codemirror_mode": {
    "name": "ipython",
    "version": 3
   },
   "file_extension": ".py",
   "mimetype": "text/x-python",
   "name": "python",
   "nbconvert_exporter": "python",
   "pygments_lexer": "ipython3",
   "version": "3.12.4"
  }
 },
 "nbformat": 4,
 "nbformat_minor": 4
}
